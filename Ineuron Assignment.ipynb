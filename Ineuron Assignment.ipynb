{
 "cells": [
  {
   "cell_type": "markdown",
   "id": "214a0fd4",
   "metadata": {},
   "source": [
    "### 1. Write a Python program to reverse a string without using any built-in string reversal functions."
   ]
  },
  {
   "cell_type": "code",
   "execution_count": 1,
   "id": "b46feccd",
   "metadata": {},
   "outputs": [
    {
     "name": "stdout",
     "output_type": "stream",
     "text": [
      "noipmahC\n"
     ]
    }
   ],
   "source": [
    "b='Champion'\n",
    "l=''\n",
    "for i in range(len(b)-1,-1,-1):\n",
    "    l+=b[i]\n",
    "print(l)"
   ]
  },
  {
   "cell_type": "markdown",
   "id": "1ea8dd77",
   "metadata": {},
   "source": [
    "### 2. Implement a function to check if a given string is a palindrome."
   ]
  },
  {
   "cell_type": "code",
   "execution_count": 2,
   "id": "0ffa86a2",
   "metadata": {},
   "outputs": [],
   "source": [
    "def checkpalindrome(a):\n",
    "    if a==a[::-1]:\n",
    "        print('Given string',a,'is palindrome')\n",
    "    else:\n",
    "        print('Given string',a,'is not palindrome')"
   ]
  },
  {
   "cell_type": "code",
   "execution_count": 3,
   "id": "b6c5fed6",
   "metadata": {},
   "outputs": [
    {
     "name": "stdout",
     "output_type": "stream",
     "text": [
      "Given string level is palindrome\n"
     ]
    }
   ],
   "source": [
    "checkpalindrome('level')"
   ]
  },
  {
   "cell_type": "code",
   "execution_count": 4,
   "id": "a8a92267",
   "metadata": {},
   "outputs": [
    {
     "name": "stdout",
     "output_type": "stream",
     "text": [
      "Given string ineuron is not palindrome\n"
     ]
    }
   ],
   "source": [
    "checkpalindrome('ineuron')"
   ]
  },
  {
   "cell_type": "markdown",
   "id": "4afb11dd",
   "metadata": {},
   "source": [
    "### 3. Write a program to find the largest element in a given list."
   ]
  },
  {
   "cell_type": "code",
   "execution_count": 5,
   "id": "9f576a1e",
   "metadata": {},
   "outputs": [],
   "source": [
    "def findlargeelementinthelist(a):\n",
    "    a.sort(reverse=True)\n",
    "    return a[0]"
   ]
  },
  {
   "cell_type": "code",
   "execution_count": 6,
   "id": "a4fc20fa",
   "metadata": {},
   "outputs": [
    {
     "data": {
      "text/plain": [
       "903"
      ]
     },
     "execution_count": 6,
     "metadata": {},
     "output_type": "execute_result"
    }
   ],
   "source": [
    "findlargeelementinthelist([1,2,3,67,903])"
   ]
  },
  {
   "cell_type": "markdown",
   "id": "e9ab7d17",
   "metadata": {},
   "source": [
    "### 4. Implement a function to count the occurrence of each element in a list."
   ]
  },
  {
   "cell_type": "code",
   "execution_count": 7,
   "id": "78286006",
   "metadata": {},
   "outputs": [
    {
     "name": "stdout",
     "output_type": "stream",
     "text": [
      "the occurnace of 2 is: 3\n",
      "the occurnace of 3 is: 2\n",
      "the occurnace of 7 is: 2\n",
      "the occurnace of 8 is: 2\n",
      "the occurnace of 9 is: 4\n",
      "the occurnace of 11 is: 1\n",
      "the occurnace of 45 is: 1\n",
      "the occurnace of 56 is: 1\n"
     ]
    }
   ],
   "source": [
    "l=[11,2,2,2,3,3,45,56,7,7,8,8,9,9,9,9]\n",
    "b=set(l)\n",
    "for i in b:\n",
    "    print(\"the occurnace of\", i, \"is:\",l.count(i))"
   ]
  },
  {
   "cell_type": "markdown",
   "id": "7d2ce255",
   "metadata": {},
   "source": [
    "### 5. Write a Python program to find the second largest number in a list."
   ]
  },
  {
   "cell_type": "code",
   "execution_count": 8,
   "id": "f546025a",
   "metadata": {},
   "outputs": [],
   "source": [
    "def findsecondlargestelement(l):\n",
    "    l.sort(reverse=True)\n",
    "    return l[1]"
   ]
  },
  {
   "cell_type": "code",
   "execution_count": 9,
   "id": "1506643e",
   "metadata": {},
   "outputs": [
    {
     "data": {
      "text/plain": [
       "87"
      ]
     },
     "execution_count": 9,
     "metadata": {},
     "output_type": "execute_result"
    }
   ],
   "source": [
    "findsecondlargestelement([7,91,35,87,76])"
   ]
  },
  {
   "cell_type": "markdown",
   "id": "a2ff41c4",
   "metadata": {},
   "source": [
    "### 6. Implement a function to remove duplicate elements from a list."
   ]
  },
  {
   "cell_type": "code",
   "execution_count": 10,
   "id": "fb400023",
   "metadata": {},
   "outputs": [],
   "source": [
    "def removeduplicatelement(l):\n",
    "    b=set(l)\n",
    "    c=list(b)\n",
    "    return c"
   ]
  },
  {
   "cell_type": "code",
   "execution_count": 11,
   "id": "291e13de",
   "metadata": {},
   "outputs": [
    {
     "data": {
      "text/plain": [
       "[2, 3, 7, 8, 9, 11, 45, 56]"
      ]
     },
     "execution_count": 11,
     "metadata": {},
     "output_type": "execute_result"
    }
   ],
   "source": [
    "removeduplicatelement([11,2,2,2,3,3,45,56,7,7,8,8,9,9,9,9])"
   ]
  },
  {
   "cell_type": "markdown",
   "id": "148ef4a5",
   "metadata": {},
   "source": [
    "### 7. Write a program to calculate the factorial of a given number."
   ]
  },
  {
   "cell_type": "code",
   "execution_count": 12,
   "id": "ce05939c",
   "metadata": {},
   "outputs": [],
   "source": [
    "def factorialofanumber(x):\n",
    "    a=1\n",
    "    for i in range(x,0,-1):\n",
    "        a*=i\n",
    "    return a"
   ]
  },
  {
   "cell_type": "code",
   "execution_count": 13,
   "id": "476e4c7f",
   "metadata": {},
   "outputs": [
    {
     "data": {
      "text/plain": [
       "120"
      ]
     },
     "execution_count": 13,
     "metadata": {},
     "output_type": "execute_result"
    }
   ],
   "source": [
    "factorialofanumber(5)"
   ]
  },
  {
   "cell_type": "markdown",
   "id": "fef76c7a",
   "metadata": {},
   "source": [
    "### 9. Write a Python program to sort a list of integers in ascending order."
   ]
  },
  {
   "cell_type": "code",
   "execution_count": 14,
   "id": "8a4554de",
   "metadata": {},
   "outputs": [],
   "source": [
    "def asclist(l):\n",
    "    l.sort()\n",
    "    return l\n"
   ]
  },
  {
   "cell_type": "code",
   "execution_count": 15,
   "id": "52ab38f5",
   "metadata": {},
   "outputs": [
    {
     "data": {
      "text/plain": [
       "[1, 2, 3, 4, 43, 78]"
      ]
     },
     "execution_count": 15,
     "metadata": {},
     "output_type": "execute_result"
    }
   ],
   "source": [
    "asclist([4,3,2,1,78,43])"
   ]
  },
  {
   "cell_type": "markdown",
   "id": "94852099",
   "metadata": {},
   "source": [
    "### 10. Implement a function to find the sum of all numbers in a list."
   ]
  },
  {
   "cell_type": "code",
   "execution_count": 16,
   "id": "2a061a1b",
   "metadata": {},
   "outputs": [],
   "source": [
    "def sumofalist(l):\n",
    "    b=0\n",
    "    for i in l:\n",
    "        b+=i\n",
    "    return b"
   ]
  },
  {
   "cell_type": "code",
   "execution_count": 17,
   "id": "2c02bd5e",
   "metadata": {},
   "outputs": [
    {
     "data": {
      "text/plain": [
       "131"
      ]
     },
     "execution_count": 17,
     "metadata": {},
     "output_type": "execute_result"
    }
   ],
   "source": [
    "sumofalist([4,3,2,1,78,43])"
   ]
  },
  {
   "cell_type": "markdown",
   "id": "2d939b2f",
   "metadata": {},
   "source": [
    "### 11. Write a program to find the common elements between two lists."
   ]
  },
  {
   "cell_type": "code",
   "execution_count": 18,
   "id": "6f56e7fe",
   "metadata": {},
   "outputs": [],
   "source": [
    "def commonelements(a,b):\n",
    "    set_a=set(a)\n",
    "    set_b=set(b)\n",
    "    c=set_a.intersection(set_b)\n",
    "    d=list(c)\n",
    "    return d"
   ]
  },
  {
   "cell_type": "code",
   "execution_count": 19,
   "id": "0d4f382f",
   "metadata": {},
   "outputs": [
    {
     "data": {
      "text/plain": [
       "[2, 3]"
      ]
     },
     "execution_count": 19,
     "metadata": {},
     "output_type": "execute_result"
    }
   ],
   "source": [
    "commonelements([1,2,3,4],[2,3,6,7])"
   ]
  },
  {
   "cell_type": "markdown",
   "id": "a09a3281",
   "metadata": {},
   "source": [
    "### 12. Implement a function to check if a given string is an anagram of another string."
   ]
  },
  {
   "cell_type": "code",
   "execution_count": 20,
   "id": "fc0823d1",
   "metadata": {},
   "outputs": [],
   "source": [
    "def checkanagram(a,b):\n",
    "    if len(a)==len(b):\n",
    "        if sorted(a)==sorted(b):\n",
    "            print('string is anagram')\n",
    "    else:\n",
    "        print('string is not anagram') "
   ]
  },
  {
   "cell_type": "code",
   "execution_count": 21,
   "id": "1e2ddcce",
   "metadata": {},
   "outputs": [
    {
     "name": "stdout",
     "output_type": "stream",
     "text": [
      "string is anagram\n"
     ]
    }
   ],
   "source": [
    "checkanagram('listen','silent')"
   ]
  },
  {
   "cell_type": "code",
   "execution_count": 22,
   "id": "e76f2d3c",
   "metadata": {},
   "outputs": [
    {
     "name": "stdout",
     "output_type": "stream",
     "text": [
      "string is not anagram\n"
     ]
    }
   ],
   "source": [
    "checkanagram('ineuron','pwskills')"
   ]
  },
  {
   "cell_type": "markdown",
   "id": "01f74374",
   "metadata": {},
   "source": [
    "### 14. Implement a function to calculate the Fibonacci sequence up to a given number of terms."
   ]
  },
  {
   "cell_type": "code",
   "execution_count": 23,
   "id": "90437078",
   "metadata": {},
   "outputs": [
    {
     "name": "stdout",
     "output_type": "stream",
     "text": [
      "How many terms? 5\n",
      "Fibonacci sequence:\n",
      "0\n",
      "1\n",
      "1\n",
      "2\n",
      "3\n"
     ]
    }
   ],
   "source": [
    "# Program to display the Fibonacci sequence up to n-th term\n",
    "\n",
    "nterms = int(input(\"How many terms? \"))\n",
    "\n",
    "# first two terms\n",
    "n1, n2 = 0, 1\n",
    "count = 0\n",
    "\n",
    "# check if the number of terms is valid\n",
    "if nterms <= 0:\n",
    "   print(\"Please enter a positive integer\")\n",
    "# if there is only one term, return n1\n",
    "elif nterms == 1:\n",
    "   print(\"Fibonacci sequence upto\",nterms,\":\")\n",
    "   print(n1)\n",
    "# generate fibonacci sequence\n",
    "else:\n",
    "   print(\"Fibonacci sequence:\")\n",
    "   while count < nterms:\n",
    "       print(n1)\n",
    "       nth = n1 + n2\n",
    "       # update values\n",
    "       n1 = n2\n",
    "       n2 = nth\n",
    "       count += 1"
   ]
  },
  {
   "cell_type": "markdown",
   "id": "20e19a12",
   "metadata": {},
   "source": [
    "### 17. Write a Python program to find the intersection of two lists.\n"
   ]
  },
  {
   "cell_type": "code",
   "execution_count": 24,
   "id": "d9eb5397",
   "metadata": {},
   "outputs": [],
   "source": [
    "def intersectionlist(L1,L2):\n",
    "    a=set(L1)\n",
    "    b=set(L2)\n",
    "    c=a.intersection(b)\n",
    "    d=list(c)\n",
    "    print(\"the intersection of the list is:\", d)"
   ]
  },
  {
   "cell_type": "code",
   "execution_count": 25,
   "id": "955e808a",
   "metadata": {},
   "outputs": [
    {
     "name": "stdout",
     "output_type": "stream",
     "text": [
      "the intersection of the list is: [3, 4]\n"
     ]
    }
   ],
   "source": [
    "intersectionlist([1,2,3,4],[3,4,5,6])"
   ]
  },
  {
   "cell_type": "markdown",
   "id": "b7491c59",
   "metadata": {},
   "source": [
    "### 19. Write a program to remove all vowels from a given string.\n"
   ]
  },
  {
   "cell_type": "code",
   "execution_count": 26,
   "id": "30eb32a2",
   "metadata": {},
   "outputs": [],
   "source": [
    "def withoutvowel(x):\n",
    "    vowel=['a','e','i','o','u']\n",
    "    result=[i for i in x if i.lower() not in vowel]\n",
    "    result=''.join(result)\n",
    "    print(result)"
   ]
  },
  {
   "cell_type": "code",
   "execution_count": 27,
   "id": "2e2cd6fe",
   "metadata": {},
   "outputs": [
    {
     "name": "stdout",
     "output_type": "stream",
     "text": [
      "Chmpn\n"
     ]
    }
   ],
   "source": [
    "withoutvowel('Champion')"
   ]
  },
  {
   "cell_type": "markdown",
   "id": "070e5da2",
   "metadata": {},
   "source": [
    "### 20. Implement a function to reverse the order of words in a given sentence."
   ]
  },
  {
   "cell_type": "code",
   "execution_count": 28,
   "id": "b6e6b9d8",
   "metadata": {},
   "outputs": [],
   "source": [
    "def reverseorder(x):\n",
    "    return x[::-1]"
   ]
  },
  {
   "cell_type": "code",
   "execution_count": 29,
   "id": "69ff8294",
   "metadata": {},
   "outputs": [
    {
     "data": {
      "text/plain": [
       "'noipmahC'"
      ]
     },
     "execution_count": 29,
     "metadata": {},
     "output_type": "execute_result"
    }
   ],
   "source": [
    "reverseorder('Champion')"
   ]
  },
  {
   "cell_type": "markdown",
   "id": "31bc4350",
   "metadata": {},
   "source": [
    "### 21. Write a Python program to check if two strings are anagrams of each other."
   ]
  },
  {
   "cell_type": "code",
   "execution_count": 30,
   "id": "c816e6d9",
   "metadata": {},
   "outputs": [],
   "source": [
    "def checkanagram(a,b):\n",
    "    if len(a)==len(b):\n",
    "        if sorted(a)==sorted(b):\n",
    "            print('string is anagram')\n",
    "    else:\n",
    "        print('string is not anagram') "
   ]
  },
  {
   "cell_type": "code",
   "execution_count": 31,
   "id": "731f1186",
   "metadata": {},
   "outputs": [
    {
     "name": "stdout",
     "output_type": "stream",
     "text": [
      "string is anagram\n"
     ]
    }
   ],
   "source": [
    "checkanagram('silent','listen')"
   ]
  },
  {
   "cell_type": "markdown",
   "id": "949bcb8e",
   "metadata": {},
   "source": [
    "### 24. Implement a function to check if a given number is a power of two."
   ]
  },
  {
   "cell_type": "code",
   "execution_count": 32,
   "id": "eca5a67a",
   "metadata": {},
   "outputs": [],
   "source": [
    "# Function to check\n",
    "# Log base 2\n",
    "import math\n",
    "def Log2(x):\n",
    "    return (math.log10(x) /\n",
    "            math.log10(2));\n",
    " \n",
    "# Function to check\n",
    "# if x is power of 2\n",
    "def isPowerOfTwo(n):\n",
    "    return (math.ceil(Log2(n)) == math.floor(Log2(n)));"
   ]
  },
  {
   "cell_type": "code",
   "execution_count": 33,
   "id": "feeb8556",
   "metadata": {},
   "outputs": [
    {
     "name": "stdout",
     "output_type": "stream",
     "text": [
      "No\n",
      "Yes\n"
     ]
    }
   ],
   "source": [
    "if(isPowerOfTwo(67)):\n",
    "    print(\"Yes\");\n",
    "else:\n",
    "    print(\"No\");\n",
    "\n",
    "if(isPowerOfTwo(128)):\n",
    "    print(\"Yes\");\n",
    "else:\n",
    "    print(\"No\");"
   ]
  },
  {
   "cell_type": "markdown",
   "id": "3af5834d",
   "metadata": {},
   "source": [
    "### 25. Write a Python program to merge two sorted lists into a single sorted list."
   ]
  },
  {
   "cell_type": "code",
   "execution_count": 34,
   "id": "36ed47d8",
   "metadata": {},
   "outputs": [
    {
     "name": "stdout",
     "output_type": "stream",
     "text": [
      "The combined sorted list is : [1, 3, 4, 5, 6, 7, 8, 9, 10, 11]\n"
     ]
    }
   ],
   "source": [
    "test_list1 = [1, 5, 6, 9, 11]\n",
    "test_list2 = [3, 4, 7, 8, 10]\n",
    "\n",
    "\n",
    " \n",
    "# to combine two sorted lists\n",
    "res = sorted(test_list1 + test_list2)\n",
    " \n",
    "# printing result\n",
    "print (\"The combined sorted list is : \" + str(res))"
   ]
  },
  {
   "cell_type": "markdown",
   "id": "22f6f83e",
   "metadata": {},
   "source": [
    "### 27. Write a program to find the greatest common divisor (GCD) of two numbers."
   ]
  },
  {
   "cell_type": "code",
   "execution_count": 35,
   "id": "ebe3c030",
   "metadata": {},
   "outputs": [],
   "source": [
    "def findTheGCD(x_term,y_term):\n",
    "    if x_term>y_term:\n",
    "        smaller = y_term\n",
    "    else:\n",
    "        smaller = x_term\n",
    "    for ele in range(1,smaller+1):\n",
    "        if((x_term%ele == 0) and (y_term%ele == 0)):\n",
    "            gcd = ele\n",
    "    print(f'The GCD of {x_term},{y_term} is {gcd}')"
   ]
  },
  {
   "cell_type": "code",
   "execution_count": 36,
   "id": "0028df5e",
   "metadata": {},
   "outputs": [
    {
     "name": "stdout",
     "output_type": "stream",
     "text": [
      "The GCD of 88,12 is 4\n"
     ]
    }
   ],
   "source": [
    "findTheGCD(88,12)"
   ]
  },
  {
   "cell_type": "markdown",
   "id": "ec178465",
   "metadata": {},
   "source": [
    "### 28. Implement a function to calculate the square root of a given number."
   ]
  },
  {
   "cell_type": "code",
   "execution_count": 37,
   "id": "7e85cbeb",
   "metadata": {},
   "outputs": [],
   "source": [
    "def squareroot(x):\n",
    "    import math\n",
    "    a=math.sqrt(x)\n",
    "    print('the squareroot of the',x,'is:',a)"
   ]
  },
  {
   "cell_type": "code",
   "execution_count": 38,
   "id": "492080fc",
   "metadata": {},
   "outputs": [
    {
     "name": "stdout",
     "output_type": "stream",
     "text": [
      "the squareroot of the 9 is: 3.0\n"
     ]
    }
   ],
   "source": [
    "squareroot(9)"
   ]
  },
  {
   "cell_type": "markdown",
   "id": "7ebeb9bc",
   "metadata": {},
   "source": [
    "### 31. Write a program to find the sum of all even numbers in a list."
   ]
  },
  {
   "cell_type": "code",
   "execution_count": 39,
   "id": "1a85c3b3",
   "metadata": {},
   "outputs": [
    {
     "name": "stdout",
     "output_type": "stream",
     "text": [
      "the sum of the even no is 202\n"
     ]
    }
   ],
   "source": [
    "l=[1,3,4,23,44,56,87,98]\n",
    "sum=0\n",
    "for i in l:\n",
    "    if i%2==0:\n",
    "        sum+=i\n",
    "print('the sum of the even no is',sum)"
   ]
  },
  {
   "cell_type": "markdown",
   "id": "1350397a",
   "metadata": {},
   "source": [
    "### 33. Write a Python program to remove duplicates from a list while preserving the order."
   ]
  },
  {
   "cell_type": "code",
   "execution_count": 40,
   "id": "eb142ffd",
   "metadata": {},
   "outputs": [],
   "source": [
    "def f7(seq):\n",
    "    seen = set()\n",
    "    seen_add = seen.add\n",
    "    return [x for x in seq if not (x in seen or seen_add(x))]"
   ]
  },
  {
   "cell_type": "code",
   "execution_count": 41,
   "id": "aeb434dc",
   "metadata": {},
   "outputs": [
    {
     "data": {
      "text/plain": [
       "[2, 3, 7, 8, 9, 13, 12]"
      ]
     },
     "execution_count": 41,
     "metadata": {},
     "output_type": "execute_result"
    }
   ],
   "source": [
    "f7([2,3,2,2,7,8,8,9,9,13,12,13])"
   ]
  },
  {
   "cell_type": "markdown",
   "id": "b325aa91",
   "metadata": {},
   "source": [
    "### 36. Implement a function to calculate the product of all elements in a list.\n"
   ]
  },
  {
   "cell_type": "code",
   "execution_count": 42,
   "id": "3f3e6b4d",
   "metadata": {},
   "outputs": [
    {
     "name": "stdout",
     "output_type": "stream",
     "text": [
      "the multiplication of all element is: 3744\n"
     ]
    }
   ],
   "source": [
    "l=[1,3,4,13,1,3,4,2]\n",
    "multiply=1\n",
    "for i in l:\n",
    "    multiply=multiply*i\n",
    "print('the multiplication of all element is:',multiply)"
   ]
  },
  {
   "cell_type": "markdown",
   "id": "26f8f2b8",
   "metadata": {},
   "source": [
    "### 39. Write a program to find the sum of digits of a given number."
   ]
  },
  {
   "cell_type": "code",
   "execution_count": 43,
   "id": "c61d435e",
   "metadata": {},
   "outputs": [],
   "source": [
    "def getSum(n):\n",
    " \n",
    "    sum = 0\n",
    "    while (n != 0):\n",
    " \n",
    "        sum = sum + int(n % 10)\n",
    "        n = int(n/10)\n",
    " \n",
    "    return sum"
   ]
  },
  {
   "cell_type": "code",
   "execution_count": 44,
   "id": "021ea3e9",
   "metadata": {},
   "outputs": [
    {
     "data": {
      "text/plain": [
       "14"
      ]
     },
     "execution_count": 44,
     "metadata": {},
     "output_type": "execute_result"
    }
   ],
   "source": [
    "getSum(2345)"
   ]
  },
  {
   "cell_type": "markdown",
   "id": "3ac41802",
   "metadata": {},
   "source": [
    "### 40. Implement a function to check if a given string is a valid palindrome considering case sensitivity."
   ]
  },
  {
   "cell_type": "code",
   "execution_count": 45,
   "id": "e2fd0161",
   "metadata": {},
   "outputs": [],
   "source": [
    "def CheckPalindrome(string):\n",
    "    x=string.lower()\n",
    "    \n",
    "    if x==x[::-1]:\n",
    "        print('Palindrome')\n",
    "    \n",
    "    else:\n",
    "        print('Not Palindrome')"
   ]
  },
  {
   "cell_type": "code",
   "execution_count": 46,
   "id": "9f2c4cf5",
   "metadata": {},
   "outputs": [
    {
     "name": "stdout",
     "output_type": "stream",
     "text": [
      "Palindrome\n"
     ]
    }
   ],
   "source": [
    "CheckPalindrome('NAMAN')"
   ]
  },
  {
   "cell_type": "code",
   "execution_count": 47,
   "id": "3f0d328e",
   "metadata": {},
   "outputs": [
    {
     "name": "stdout",
     "output_type": "stream",
     "text": [
      "Not Palindrome\n"
     ]
    }
   ],
   "source": [
    "CheckPalindrome('Champ')"
   ]
  },
  {
   "cell_type": "markdown",
   "id": "e06cd7d6",
   "metadata": {},
   "source": [
    "### 43. Write a program to find the number of occurrences of a given element in a list"
   ]
  },
  {
   "cell_type": "code",
   "execution_count": 48,
   "id": "9956c0b9",
   "metadata": {},
   "outputs": [],
   "source": [
    "def countX(l1, x):\n",
    "    count = 0\n",
    "    for ele in l1:\n",
    "        if (ele == x):\n",
    "            count = count + 1\n",
    "    return count"
   ]
  },
  {
   "cell_type": "code",
   "execution_count": 49,
   "id": "94d8eb81",
   "metadata": {},
   "outputs": [
    {
     "name": "stdout",
     "output_type": "stream",
     "text": [
      "6 has occurred 3 times\n"
     ]
    }
   ],
   "source": [
    "a = [6, 6, 7, 10, 8, 20, 10, 6, 8]\n",
    "b = 6\n",
    "print('{} has occurred {} times'.format(b,countX(a, b)))"
   ]
  }
 ],
 "metadata": {
  "kernelspec": {
   "display_name": "Python 3 (ipykernel)",
   "language": "python",
   "name": "python3"
  },
  "language_info": {
   "codemirror_mode": {
    "name": "ipython",
    "version": 3
   },
   "file_extension": ".py",
   "mimetype": "text/x-python",
   "name": "python",
   "nbconvert_exporter": "python",
   "pygments_lexer": "ipython3",
   "version": "3.10.9"
  }
 },
 "nbformat": 4,
 "nbformat_minor": 5
}
